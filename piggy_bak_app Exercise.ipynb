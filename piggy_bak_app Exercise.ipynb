{
 "cells": [
  {
   "cell_type": "markdown",
   "metadata": {},
   "source": [
    "## Piggy Bank Software\n",
    "\n",
    "We should create a piigy bank application for school children to teach them importance of savings.\n",
    "They should have the option to :\n",
    "\n",
    "* Add modeny \n",
    "* withdraw money\n",
    "* Check the current amount in the piggy bank"
   ]
  },
  {
   "cell_type": "markdown",
   "metadata": {},
   "source": [
    "## Assignment \n",
    "\n",
    "Develope an piggy bank application, which will work as per above instruction.\n"
   ]
  },
  {
   "cell_type": "code",
   "execution_count": 2,
   "metadata": {},
   "outputs": [
    {
     "name": "stdout",
     "output_type": "stream",
     "text": [
      "Start or End start\n",
      "Add , Withdraw or Check withdraw\n",
      "Enter the amount you want to withdraw20\n",
      "You do not have sufficient balance in your account\n",
      "Start or End start\n",
      "Add , Withdraw or Check add\n",
      "Enter the amount you want to add30\n",
      "Rs 30 is sucessfully added into your piggybank\n",
      "Start or End start\n",
      "Add , Withdraw or Check check\n",
      "Rs 30 is your current balance in your account\n",
      "Start or End start\n",
      "Add , Withdraw or Check withdraw\n",
      "Enter the amount you want to withdraw10\n",
      "Rs 10 sucessfully withdrawn from your piggybank and Rs 20 is your current balance\n",
      "Start or End start\n",
      "Add , Withdraw or Check check\n",
      "Rs 20 is your current balance in your account\n",
      "Start or End end\n"
     ]
    }
   ],
   "source": [
    "money=0\n",
    "def addMoney(x):\n",
    "    global money\n",
    "    money=money+int(x)\n",
    "    return money\n",
    "def withdrawMoney(x):\n",
    "    global money\n",
    "    if money<int(x):\n",
    "        return -1\n",
    "    money=money-int(x)\n",
    "    return money\n",
    "def checkMoney():\n",
    "    global money\n",
    "    return money\n",
    "\n",
    "while(True):\n",
    "    begin=input(\"Start or End \")\n",
    "    if begin.upper()=='START':\n",
    "        amount=0\n",
    "        addamount=0\n",
    "        subamount=0\n",
    "        transaction = input(\"Add , Withdraw or Check \")\n",
    "        if transaction.upper()=='ADD':\n",
    "            amount=input(\"Enter the amount you want to add\")\n",
    "            addamount=addMoney(amount)\n",
    "            print(\"Rs \"+str(addamount)+\" is sucessfully added into your piggybank\")\n",
    "            \n",
    "        elif transaction.upper()=='WITHDRAW':\n",
    "            amount=input(\"Enter the amount you want to withdraw\")\n",
    "            subamount=withdrawMoney(amount)\n",
    "            if subamount==-1:\n",
    "                print(\"You do not have sufficient balance in your account\")\n",
    "                continue\n",
    "            else:\n",
    "                print(\"Rs \"+str(amount)+\" sucessfully withdrawn from your piggybank and Rs \"+str(subamount)+\" is your current balance\")\n",
    "        elif transaction.upper()=='CHECK':\n",
    "            addamount=checkMoney()\n",
    "            print(\"Rs \"+str(addamount)+\" is your current balance in your account\")\n",
    "        else:\n",
    "            print(\"Please choose one transaction among Add , Withdraw or Check\")\n",
    "    else:\n",
    "        break\n",
    "\n",
    "        \n",
    "    "
   ]
  },
  {
   "cell_type": "code",
   "execution_count": null,
   "metadata": {},
   "outputs": [],
   "source": []
  }
 ],
 "metadata": {
  "kernelspec": {
   "display_name": "Python 3",
   "language": "python",
   "name": "python3"
  },
  "language_info": {
   "codemirror_mode": {
    "name": "ipython",
    "version": 3
   },
   "file_extension": ".py",
   "mimetype": "text/x-python",
   "name": "python",
   "nbconvert_exporter": "python",
   "pygments_lexer": "ipython3",
   "version": "3.6.4"
  }
 },
 "nbformat": 4,
 "nbformat_minor": 2
}
